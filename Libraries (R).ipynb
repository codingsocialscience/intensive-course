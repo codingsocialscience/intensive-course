{
 "cells": [
  {
   "cell_type": "markdown",
   "metadata": {},
   "source": [
    "# Libraries\n",
    "\n",
    "Instead of inventing everything from ground up, developers use software libraries (or packages) to utilise commonly used functionalities.\n",
    "Libraries have functions (in some programming languages, methods) which take an input and conduct operations to achieve the expected output.\n",
    "The input is series of parameters described in the method documentation, a written text which spesifies how the library should be used."
   ]
  },
  {
   "cell_type": "markdown",
   "metadata": {},
   "source": [
    "## Installing libraries\n",
    "\n",
    "Before you can use a library, it needs to be installed into your system.\n",
    "We now install [ggplot2](https://ggplot2.tidyverse.org/), a popular library for plotting data."
   ]
  },
  {
   "cell_type": "code",
   "execution_count": null,
   "metadata": {},
   "outputs": [],
   "source": [
    "install.packages( \"ggplot2\" ) ## this installs the package to your computer"
   ]
  },
  {
   "cell_type": "markdown",
   "metadata": {},
   "source": [
    "## Taking the library into use\n",
    "\n",
    "After an library has been installed, you need to take it into use: state that you want to use this library.\n",
    "After that you can use the functions spesified in [the documentation](https://ggplot2.tidyverse.org/reference/index.html).\n",
    "Often documentation is supplemented by [examples](https://ggplot2.tidyverse.org/#usage) and for often used libraries, Google will also prove answers to many more spesific questions.\n",
    "\n",
    "The library includes a dataset `mpg` including details on the fuel econonomy of various cars ([see more](https://ggplot2.tidyverse.org/reference/mpg.html)).\n",
    "We use it in the next examples to have an easy to use dataset available for these exercises."
   ]
  },
  {
   "cell_type": "code",
   "execution_count": null,
   "metadata": {},
   "outputs": [],
   "source": [
    "library(ggplot2)"
   ]
  },
  {
   "cell_type": "code",
   "execution_count": null,
   "metadata": {},
   "outputs": [],
   "source": [
    "ggplot(mpg, aes(displ, hwy, colour = class)) + \n",
    "  geom_point()"
   ]
  },
  {
   "cell_type": "code",
   "execution_count": null,
   "metadata": {},
   "outputs": [],
   "source": [
    "head( mpg )"
   ]
  },
  {
   "cell_type": "code",
   "execution_count": null,
   "metadata": {},
   "outputs": [],
   "source": [
    "## using geom_bar to produce bar chart\n",
    "ggplot( mpg , aes( manufacturer ) ) + \n",
    "  geom_bar()"
   ]
  },
  {
   "cell_type": "markdown",
   "metadata": {},
   "source": [
    "# Exercises\n",
    "\n",
    "* Visualise the various transistion models of cars in `mpg` using a bar chart.\n",
    "* Visualise the production years of the cars in `mpg` using [a histogram](https://ggplot2.tidyverse.org/reference/geom_histogram.html).\n",
    "* Visualise the production years per model of the cars in `mpg` using a frequency polygon."
   ]
  },
  {
   "cell_type": "code",
   "execution_count": null,
   "metadata": {},
   "outputs": [],
   "source": []
  }
 ],
 "metadata": {
  "kernelspec": {
   "display_name": "R",
   "language": "R",
   "name": "ir"
  },
  "language_info": {
   "codemirror_mode": "r",
   "file_extension": ".r",
   "mimetype": "text/x-r-source",
   "name": "R",
   "pygments_lexer": "r",
   "version": "4.2.0"
  }
 },
 "nbformat": 4,
 "nbformat_minor": 4
}
