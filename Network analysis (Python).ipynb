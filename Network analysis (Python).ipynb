{
 "cells": [
  {
   "cell_type": "markdown",
   "metadata": {},
   "source": [
    "# Network analysis\n",
    "\n",
    "Network analysis focuses on seeing the world via nodes and ties between nodes.\n",
    "It can be used for various purposes, ranging from [textual data](https://sicss.io/2020/materials/day3-text-analysis/text-networks/rmarkdown/Text_Networks.html) to analysis of [sexual relationships in a high school](https://people.duke.edu/~jmoody77/chains.pdf).\n",
    "\n",
    "Now we learn how to\n",
    "* read data in as a network\n",
    "* visualise network\n",
    "* compute various network characteristics\n",
    "\n",
    "For this, we use the package [networkx](https://networkx.org/).\n",
    "\n",
    "[Narrated code example](https://youtu.be/5m1A25SHMDU)"
   ]
  },
  {
   "cell_type": "code",
   "execution_count": null,
   "metadata": {},
   "outputs": [],
   "source": [
    "import pandas as pd\n",
    "import networkx as nx\n",
    "import numpy as np"
   ]
  },
  {
   "cell_type": "code",
   "execution_count": null,
   "metadata": {},
   "outputs": [],
   "source": [
    "data = pd.read_csv('data/org_x_collaboration.csv', header=None)\n",
    "\n",
    "network =  nx.from_pandas_adjacency( data )"
   ]
  },
  {
   "cell_type": "markdown",
   "metadata": {},
   "source": [
    "## Computing network characteristics\n",
    "\n",
    "There are various measurements which can be executed both at the level of individual nodes as well as at the level of the whole network."
   ]
  },
  {
   "cell_type": "code",
   "execution_count": null,
   "metadata": {},
   "outputs": [],
   "source": [
    "for node, degree in nx.degree( network ):\n",
    "    print( node, degree )"
   ]
  },
  {
   "cell_type": "markdown",
   "metadata": {},
   "source": [
    "## Exercises\n",
    "\n",
    "* Instead of degree use [betweness](https://networkx.org/documentation/stable/reference/algorithms/generated/networkx.algorithms.centrality.betweenness_centrality.html#networkx.algorithms.centrality.betweenness_centrality) metrics.\n",
    "* Do degree and betweness correlate?\n",
    "* What is the diameter of the network?"
   ]
  },
  {
   "cell_type": "markdown",
   "metadata": {},
   "source": [
    "## Plotting networks\n",
    "\n",
    "Often network analysis is done through drawing the network.\n",
    "Here we learn how to twist the drawing by changing node attributes, tie attributes as well as the [layout of the graph](https://networkx.org/documentation/stable/reference/drawing.html#module-networkx.drawing.layout).\n",
    "See [documentation](https://networkx.org/documentation/stable/reference/generated/networkx.drawing.nx_pylab.draw_networkx.html#draw-networkx) for various alternatives you can use."
   ]
  },
  {
   "cell_type": "code",
   "execution_count": null,
   "metadata": {},
   "outputs": [],
   "source": [
    "import matplotlib.pyplot as plt\n",
    "\n",
    "nx.draw_networkx( network )"
   ]
  },
  {
   "cell_type": "code",
   "execution_count": null,
   "metadata": {},
   "outputs": [],
   "source": [
    "layout = nx.circular_layout( network )\n",
    "node_sizes = []\n",
    "\n",
    "for node, degree in nx.degree( network ):\n",
    "    node_sizes.append( 10 * degree )\n",
    "\n",
    "nx.draw_networkx( network, pos = layout, node_color = \"blue\", node_size = node_sizes, edge_color = \"green\" )"
   ]
  },
  {
   "cell_type": "markdown",
   "metadata": {},
   "source": [
    "## Exercises\n",
    "\n",
    "* Draw a network which you would use to describe the outcomes to the organisation.\n",
    "* Examine different layout algorithms and see how different they are."
   ]
  },
  {
   "cell_type": "markdown",
   "metadata": {},
   "source": [
    "## Community detection\n",
    "\n",
    "Beyond visualizations, one can try to find communities (or clusters) of more dencly connected nodes from the materials. There are various community detection algorithms out there [see for example](https://networkx.org/documentation/stable/reference/algorithms/community.html), and they do produce somewhat different outcomes."
   ]
  },
  {
   "cell_type": "code",
   "execution_count": null,
   "metadata": {},
   "outputs": [],
   "source": [
    "communities = nx.community.greedy_modularity_communities( network )\n",
    "\n",
    "community_colors = ['green', 'red', 'blue']\n",
    "\n",
    "colors = []\n",
    "for i, community in enumerate( communities ):\n",
    "    for node in community:\n",
    "        colors.insert(node, community_colors[ i ] )\n",
    "\n",
    "layout = nx.circular_layout( network )\n",
    "node_sizes = []\n",
    "\n",
    "for node, degree in nx.degree( network ):\n",
    "    node_sizes.append( 10 * degree )\n",
    "\n",
    "nx.draw_networkx( network, pos = layout, node_color = colors, node_size = node_sizes, edge_color = \"green\" )"
   ]
  },
  {
   "cell_type": "markdown",
   "metadata": {},
   "source": [
    "## Exercises\n",
    "\n",
    "* Try out different clustering approaches: what kinds of insights they provide to the data?"
   ]
  }
 ],
 "metadata": {
  "kernelspec": {
   "display_name": "Python 3",
   "language": "python",
   "name": "python3"
  },
  "language_info": {
   "codemirror_mode": {
    "name": "ipython",
    "version": 3
   },
   "file_extension": ".py",
   "mimetype": "text/x-python",
   "name": "python",
   "nbconvert_exporter": "python",
   "pygments_lexer": "ipython3",
   "version": "3.12.4"
  }
 },
 "nbformat": 4,
 "nbformat_minor": 4
}
