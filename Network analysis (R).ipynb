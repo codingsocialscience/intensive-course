{
 "cells": [
  {
   "cell_type": "markdown",
   "metadata": {},
   "source": [
    "# Network analysis\n",
    "\n",
    "Network analysis focuses on seeing the world via nodes and ties between nodes.\n",
    "It can be used for various purposes, ranging from [textual data](https://sicss.io/2020/materials/day3-text-analysis/text-networks/rmarkdown/Text_Networks.html) to analysis of [sexual relationships in a high school](https://people.duke.edu/~jmoody77/chains.pdf).\n",
    "\n",
    "Now we learn how to\n",
    "* read data in as a network\n",
    "* visualise network\n",
    "* compute various network characteristics\n",
    "\n",
    "For this, we use the package [igraph](https://igraph.org/r/).\n",
    "\n",
    "[Narrated code walkthrough](https://www.youtube.com/watch?v=lXC2egj8lmY)"
   ]
  },
  {
   "cell_type": "code",
   "execution_count": null,
   "metadata": {
    "vscode": {
     "languageId": "r"
    }
   },
   "outputs": [],
   "source": [
    "library(igraph)"
   ]
  },
  {
   "cell_type": "code",
   "execution_count": null,
   "metadata": {
    "vscode": {
     "languageId": "r"
    }
   },
   "outputs": [],
   "source": [
    "data <- read.csv('data/org_x_collaboration.csv', header = F )\n",
    "matrix <- as.matrix( data )\n",
    "\n",
    "network <- graph_from_adjacency_matrix( matrix, 'directed' )"
   ]
  },
  {
   "cell_type": "markdown",
   "metadata": {},
   "source": [
    "## Computing network characteristics\n",
    "\n",
    "There are various measurements which can be executed both at the level of individual nodes as well as at the level of the whole network."
   ]
  },
  {
   "cell_type": "code",
   "execution_count": null,
   "metadata": {
    "vscode": {
     "languageId": "r"
    }
   },
   "outputs": [],
   "source": [
    "degree( network )\n",
    "summary( degree( network ) )\n",
    "hist( degree( network ) )"
   ]
  },
  {
   "cell_type": "markdown",
   "metadata": {},
   "source": [
    "## Exercises\n",
    "\n",
    "* Instead of this ugly histogram, use `ggplot` to draw a nice histogram.\n",
    "* Instead of degree use [betweness](https://igraph.org/r/doc/betweenness.html) metrics.\n",
    "* Do degree and betweness correlate?\n",
    "* What is the diameter of the network?"
   ]
  },
  {
   "cell_type": "markdown",
   "metadata": {},
   "source": [
    "## Plotting networks\n",
    "\n",
    "Often network analysis is done through drawing the network.\n",
    "Here we learn how to twist the drawing by changing node attributes, tie attributes as well as the [layout of the graph](https://igraph.org/r/doc/layout_.html).\n",
    "See [documentation](https://igraph.org/r/doc/plot.common.html) for various alternatives you can use."
   ]
  },
  {
   "cell_type": "code",
   "execution_count": null,
   "metadata": {
    "vscode": {
     "languageId": "r"
    }
   },
   "outputs": [],
   "source": [
    "plot( network )"
   ]
  },
  {
   "cell_type": "code",
   "execution_count": null,
   "metadata": {
    "vscode": {
     "languageId": "r"
    }
   },
   "outputs": [],
   "source": [
    "V(network)$color <- 'white'\n",
    "V(network)$size <- degree(network)\n",
    "\n",
    "E(network)$color <- 'green'\n",
    "\n",
    "l = layout_in_circle( network )\n",
    "\n",
    "plot( network, layout = l )"
   ]
  },
  {
   "cell_type": "markdown",
   "metadata": {},
   "source": [
    "## Exercises\n",
    "\n",
    "* Draw a network which you would use to describe the outcomes to the organisation.\n",
    "* Examine different layout algorithms and see how different they are."
   ]
  },
  {
   "cell_type": "markdown",
   "metadata": {},
   "source": [
    "## Community detection\n",
    "\n",
    "Beyond visualizations, one can try to find communities (or clusters) of more dencly connected nodes from the materials. There are various community detection algorithms out there [see for example](https://www.rdocumentation.org/packages/igraph/versions/1.3.5/topics/membership), and they do produce somewhat different outcomes."
   ]
  },
  {
   "cell_type": "code",
   "execution_count": null,
   "metadata": {
    "vscode": {
     "languageId": "r"
    }
   },
   "outputs": [],
   "source": [
    "communities <- cluster_optimal( network )\n",
    "V(network)$community <- membership( communities )\n",
    "\n",
    "V(network)$color <- V(network)$community\n",
    "V(network)$size <- degree(network)\n",
    "\n",
    "E(network)$color <- 'green'\n",
    "\n",
    "l = layout_in_circle( network )\n",
    "\n",
    "plot( network, layout = l )"
   ]
  },
  {
   "cell_type": "markdown",
   "metadata": {},
   "source": [
    "## Exercises\n",
    "\n",
    "-  Try out different clustering approaches: what kinds of insights they provide to the data?"
   ]
  },
  {
   "cell_type": "markdown",
   "metadata": {},
   "source": []
  }
 ],
 "metadata": {
  "kernelspec": {
   "display_name": "R",
   "language": "R",
   "name": "ir"
  },
  "language_info": {
   "codemirror_mode": "r",
   "file_extension": ".r",
   "mimetype": "text/x-r-source",
   "name": "R",
   "pygments_lexer": "r",
   "version": "4.2.0"
  }
 },
 "nbformat": 4,
 "nbformat_minor": 4
}
