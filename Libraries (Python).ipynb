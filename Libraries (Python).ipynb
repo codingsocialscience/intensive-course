{
 "cells": [
  {
   "cell_type": "markdown",
   "metadata": {},
   "source": [
    "# Libraries\n",
    "\n",
    "Instead of inventing everything from ground up, developers use software libraries (or packages) to utilise commonly used functionalities.\n",
    "Libraries have functions (in some programming languages, methods) which take an input and conduct operations to achieve the expected output.\n",
    "The input is series of parameters described in the method documentation, a written text which spesifies how the library should be used."
   ]
  },
  {
   "cell_type": "markdown",
   "metadata": {},
   "source": [
    "## Installing libraries\n",
    "\n",
    "Before you can use a library, it needs to be installed into your system.\n",
    "We now install [seaborn](https://seaborn.pydata.org/), a popular library for plotting data."
   ]
  },
  {
   "cell_type": "code",
   "execution_count": null,
   "metadata": {},
   "outputs": [],
   "source": [
    "!pip install seaborn"
   ]
  },
  {
   "cell_type": "markdown",
   "metadata": {},
   "source": [
    "## Taking the library into use\n",
    "\n",
    "After an library has been installed, you need to take it into use: state that you want to use this library.\n",
    "After that you can use the functions spesified in [the documentation](https://seaborn.pydata.org/api.html).\n",
    "Often documentation is supplemented by [examples](https://seaborn.pydata.org/examples/index.html) and for often used libraries, Google will also prove answers to many more spesific questions.\n",
    "\n",
    "The library includes a dataset `mpg` including details on the fuel econonomy of various cars ([see more](https://github.com/mwaskom/seaborn-data/blob/master/mpg.csv)).\n",
    "We use it in the next examples to have an easy to use dataset available for these exercises."
   ]
  },
  {
   "cell_type": "code",
   "execution_count": null,
   "metadata": {},
   "outputs": [],
   "source": [
    "import seaborn as sns\n",
    "\n",
    "mpg = sns.load_dataset('mpg')"
   ]
  },
  {
   "cell_type": "code",
   "execution_count": null,
   "metadata": {},
   "outputs": [],
   "source": [
    "sns.scatterplot(data=mpg, x=\"displacement\", y=\"horsepower\", hue=\"origin\")"
   ]
  },
  {
   "cell_type": "code",
   "execution_count": null,
   "metadata": {},
   "outputs": [],
   "source": [
    "mpg.head() ## this is how the data looks like"
   ]
  },
  {
   "cell_type": "code",
   "execution_count": null,
   "metadata": {},
   "outputs": [],
   "source": [
    "## bar chart that automatically counts different cases\n",
    "sns.countplot( data = mpg, x=\"origin\" )"
   ]
  },
  {
   "cell_type": "markdown",
   "metadata": {},
   "source": [
    "# Exercises\n",
    "\n",
    "* Visualise the various cycle models of cars in `mpg` using a bar chart.\n",
    "* Visualise the production years of the cars in `mpg` using [a histogram](https://seaborn.pydata.org/generated/seaborn.histplot.html#seaborn-histplot).\n",
    "* Visualise the production years cylinder count of the cars in `mpg` using a "
   ]
  },
  {
   "cell_type": "code",
   "execution_count": null,
   "metadata": {},
   "outputs": [],
   "source": []
  }
 ],
 "metadata": {
  "kernelspec": {
   "display_name": "Python 3",
   "language": "python",
   "name": "python3"
  },
  "language_info": {
   "codemirror_mode": {
    "name": "ipython",
    "version": 3
   },
   "file_extension": ".py",
   "mimetype": "text/x-python",
   "name": "python",
   "nbconvert_exporter": "python",
   "pygments_lexer": "ipython3",
   "version": "3.9.13"
  }
 },
 "nbformat": 4,
 "nbformat_minor": 4
}
