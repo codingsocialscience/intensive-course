{
 "cells": [
  {
   "cell_type": "markdown",
   "metadata": {},
   "source": [
    "# Simulations: system dynamics\n",
    "\n",
    "System dynamics models work on stocks and flows between the stocks.\n",
    "To get an idea about this, see how [MONIAC](https://www.youtube.com/watch?v=rVOhYROKeu4) works.\n",
    "See the documentation of [btpk](https://bptk.transentis.com/en/latest/docs/sd-dsl/sd-dsl.html)."
   ]
  },
  {
   "cell_type": "code",
   "execution_count": null,
   "metadata": {},
   "outputs": [],
   "source": [
    "from BPTK_Py import Model\n",
    "from BPTK_Py import sd_functions as sd"
   ]
  },
  {
   "cell_type": "code",
   "execution_count": null,
   "metadata": {},
   "outputs": [],
   "source": [
    "## time starts from 0 and continues until 20\n",
    "\n",
    "model = Model( starttime=0, stoptime=20, dt=1)\n",
    "\n",
    "## we have three stocks (people healthy, people sick and people killed)\n",
    "healthy = model.stock(\"healthy\")\n",
    "healthy.initial_value = 900.0\n",
    "\n",
    "sick = model.stock(\"sick\")\n",
    "sick.initial_value = 100.0\n",
    "\n",
    "killed = model.stock(\"killed\")\n",
    "killed.initial_value = 0.0\n",
    "\n",
    "## model has parameters, such as infection rate amd kill rate\n",
    "\n",
    "infection = model.converter(\"infection\")\n",
    "infection.equation = 1.05\n",
    "\n",
    "## we modify the variable over time\n",
    "infection.equation = sd.If( sd.time()>15, 0.95 , 1.05)\n",
    "\n",
    "dead = model.constant(\"dead\")\n",
    "dead.equation = 0.02\n",
    "\n",
    "## here we define flows: how many new people get sick and how many sick people die\n",
    "\n",
    "new_dead_people = model.flow(\"new_dead_people\")\n",
    "new_dead_people.equation = sick * dead\n",
    "\n",
    "new_sick_people = model.flow(\"new_sick_people\")\n",
    "new_sick_people.equation = healthy * ( infection - 1 )\n",
    "\n",
    "\n",
    "healthy.equation = - new_sick_people\n",
    "killed.equation = new_dead_people\n",
    "sick.equation = new_sick_people - new_dead_people\n",
    "\n"
   ]
  },
  {
   "cell_type": "code",
   "execution_count": null,
   "metadata": {},
   "outputs": [],
   "source": [
    "## run and visualise model outcomes\n",
    "healthy.plot()\n",
    "sick.plot()\n",
    "killed.plot()\n",
    "new_sick_people.plot()\n",
    "infection.plot()"
   ]
  },
  {
   "cell_type": "code",
   "execution_count": null,
   "metadata": {},
   "outputs": [],
   "source": []
  },
  {
   "cell_type": "markdown",
   "metadata": {},
   "source": [
    "## Exercises\n",
    "\n",
    "1. Based on the model equation, draw a picture about the model (similar to Figure 6.2)\n",
    "1. Change the infection rate to 1.10 and dead rate to 0.05 and plot the results.\n",
    "1. Increase the time span by 10 more days.\n",
    "1. Examine how a stronger intervention (decreasing the infection rate more) impacts to number of patients and deadths. What do you see?\n",
    "1. Change the time of the intervention, what changes can you detect?\n",
    "1. Examine the timespan to 300 days. Why does the model break? Fix it so that it does not!"
   ]
  },
  {
   "cell_type": "code",
   "execution_count": null,
   "metadata": {},
   "outputs": [],
   "source": []
  }
 ],
 "metadata": {
  "kernelspec": {
   "display_name": "Python 3",
   "language": "python",
   "name": "python3"
  },
  "language_info": {
   "codemirror_mode": {
    "name": "ipython",
    "version": 3
   },
   "file_extension": ".py",
   "mimetype": "text/x-python",
   "name": "python",
   "nbconvert_exporter": "python",
   "pygments_lexer": "ipython3",
   "version": "3.9.13"
  }
 },
 "nbformat": 4,
 "nbformat_minor": 4
}
